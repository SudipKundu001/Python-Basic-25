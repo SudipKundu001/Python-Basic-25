{
 "cells": [
  {
   "cell_type": "markdown",
   "id": "dad9aea2",
   "metadata": {},
   "source": [
    ">__1) . What is the difference between enclosing a list comprehension in square brackets and\n",
    "parentheses?__\n",
    "\n",
    "\n",
    "\n"
   ]
  },
  {
   "cell_type": "markdown",
   "id": "3239a8f5",
   "metadata": {},
   "source": [
    "Ans.  The difference between the two kinds of expressions is that the List comprehension is enclosed in square brackets [] while the Generator expression is enclosed in plain parentheses ()."
   ]
  },
  {
   "cell_type": "code",
   "execution_count": 10,
   "id": "23acd63d",
   "metadata": {},
   "outputs": [],
   "source": [
    "l = [n*2 for n in range(11)] # List comprehension\n",
    "g = (n*2 for n in range(11))  # Generator expression"
   ]
  },
  {
   "cell_type": "markdown",
   "id": "41b44390",
   "metadata": {},
   "source": [
    ">__2) What is the relationship between generators and iterators?__"
   ]
  },
  {
   "cell_type": "markdown",
   "id": "79873f08",
   "metadata": {},
   "source": [
    "Ans.\n",
    "\n",
    "* Class is used to implement an iterator. Function is used to implement a generator.\n",
    "* Local Variables aren’t used here. All the local variables before the yield function are stored. \n",
    "*Iterator uses iter() and next() functions Generator uses yield keyword"
   ]
  },
  {
   "cell_type": "markdown",
   "id": "38481faa",
   "metadata": {},
   "source": [
    ">__3) What are the signs that a function is a generator function?__"
   ]
  },
  {
   "cell_type": "markdown",
   "id": "ed7b6ac6",
   "metadata": {},
   "source": [
    "Ans.  If a function contains at least one yield statement (it may contain other yield or return statements)"
   ]
  },
  {
   "cell_type": "markdown",
   "id": "238f1c0b",
   "metadata": {},
   "source": [
    ">__4) What is the purpose of a yield statement?__"
   ]
  },
  {
   "cell_type": "markdown",
   "id": "130ec958",
   "metadata": {},
   "source": [
    "Ans.  In its simplest form, a yield statement looks much like a return statement, except that instead of stopping execution of the function and returning, yield instead provides a value to the code looping over the generator and pauses execution of the generator function."
   ]
  },
  {
   "cell_type": "markdown",
   "id": "cf7851a6",
   "metadata": {},
   "source": [
    ">__5) What is the relationship between map calls and list comprehensions? Make a comparison and\n",
    "contrast between the two.__"
   ]
  },
  {
   "cell_type": "markdown",
   "id": "f2298537",
   "metadata": {},
   "source": [
    "Ans.  \n",
    "\n",
    "* List comprehension is more concise and easier to read as compared to map.\n",
    "* List comprehension allows filtering. In map, we have no such facility. For example, to print all even numbers in range of 100, we can write [n for n in range(100) if n%2 == 0]. There is no alternate for it in map\n",
    "* List comprehension are used when a list of results is required as map only returns a map object and does not return any list.\n",
    "* List comprehension is faster than map when we need to evaluate expressions that are too long or complicated to express\n",
    "* Map is faster in case of calling an already defined function (as no lambda is required)."
   ]
  }
 ],
 "metadata": {
  "kernelspec": {
   "display_name": "Python 3",
   "language": "python",
   "name": "python3"
  },
  "language_info": {
   "codemirror_mode": {
    "name": "ipython",
    "version": 3
   },
   "file_extension": ".py",
   "mimetype": "text/x-python",
   "name": "python",
   "nbconvert_exporter": "python",
   "pygments_lexer": "ipython3",
   "version": "3.8.8"
  }
 },
 "nbformat": 4,
 "nbformat_minor": 5
}
